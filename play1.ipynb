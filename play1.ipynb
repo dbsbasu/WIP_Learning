{
 "cells": [
  {
   "cell_type": "code",
   "execution_count": 1,
   "metadata": {
    "collapsed": true
   },
   "outputs": [],
   "source": [
    "from IPython.core.interactiveshell import InteractiveShell\n",
    "InteractiveShell.ast_node_interactivity = \"all\"\n",
    "\n",
    "import pandas as pd\n",
    "import numpy as np"
   ]
  },
  {
   "cell_type": "code",
   "execution_count": 2,
   "metadata": {},
   "outputs": [
    {
     "name": "stdout",
     "output_type": "stream",
     "text": [
      "a0  12 2 0 1 [2 0 1 1] x+1\n",
      "a3  2 1 2 [2 1 1 2] y+1\n",
      "a4  3 1 3 [3 1 1 3] x+1\n",
      "a2  4 1 4 [4 1 1 4] x+1\n",
      "a3  4 2 5 [4 2 1 5] y+1\n"
     ]
    }
   ],
   "source": [
    "# horizntal cell in this matrix... first 2 columns are position. 0,0; 0,1 etc. \n",
    "# third position is wheter blocked (0) or open (1).\n",
    "# fourth position is index of whether / when visited. 0 means not visited yet. a number would indicate nth step.\n",
    "# total N * M tiles. blocked n * m. N,n - vertical. M,m - horizontal \n",
    "# N(i) -> x.   M(j) -> y \n",
    "N = 5\n",
    "M = 4\n",
    "n = 2\n",
    "m = 1\n",
    "input_steps = 5\n",
    "\n",
    "arr = np.zeros((N,M,4)).astype(np.int32)\n",
    "\n",
    "for j in range(M):\n",
    "    for i in range(N):\n",
    "        arr[i,j] = [i,j,1,0]\n",
    "\n",
    "arr[0:n,0:m,2] = 0\n",
    "arr[N-n:N,M-m:M,2] = 0\n",
    "arr[0:n,M-m:M,2] = 0\n",
    "arr[N-n:N,0:m,2] = 0\n",
    "\n",
    "step = 1\n",
    "open_tiles = 0\n",
    "for j in range(M):\n",
    "    for i in range(N):\n",
    "        if (open_tiles == 0):\n",
    "            if (arr[i,j,2] == 1) & (arr[i,j,3] == 0):\n",
    "                arr[i,j,3] = step\n",
    "                x = i\n",
    "                y = j\n",
    "                current_process = 'x+1'\n",
    "        if (arr[i,j,2] == 1):\n",
    "            open_tiles = open_tiles + 1\n",
    "total_steps = input_steps\n",
    "print ('a0 ', open_tiles, x,y,step,arr[x,y], current_process)\n",
    "\n",
    "\n",
    "\n",
    "for step in range(2, total_steps+1):\n",
    "    if current_process == 'x+1':\n",
    "        if (y-1 >= 0) and (arr[x,y-1,2] == 1) and (arr[x,y-1,3] == 0):\n",
    "                arr[x,y-1,3] = step\n",
    "                y = y-1\n",
    "                current_process = 'y-1'\n",
    "                print ('a1 ', x,y,step,arr[x,y], current_process)\n",
    "        elif (x+1 < N) and (arr[x+1,y,2] == 1) and (arr[x+1,y,3] == 0):\n",
    "                arr[x+1,y,3] = step\n",
    "                x = x+1\n",
    "                current_process = 'x+1'\n",
    "                print ('a2 ', x,y,step,arr[x,y], current_process)\n",
    "        elif (y+1 < M) and (arr[x,y+1,2] == 1) and (arr[x,y+1,3] == 0):\n",
    "                arr[x,y+1,3] = step\n",
    "                y = y+1\n",
    "                current_process = 'y+1'\n",
    "                print ('a3 ', x,y,step,arr[x,y], current_process)\n",
    "        \n",
    "    elif current_process == 'y+1':\n",
    "        if (x+1 < N) and (arr[x+1,y,2] == 1) and (arr[x+1,y,3] == 0):\n",
    "                arr[x+1,y,3] = step\n",
    "                x = x+1\n",
    "                current_process = 'x+1'\n",
    "                print ('a4 ', x,y,step,arr[x,y], current_process)\n",
    "        elif (y+1 < M) and (arr[x,y+1,2] == 1) and (arr[x,y+1,3] == 0):\n",
    "                arr[x,y+1,3] = step\n",
    "                y = y+1\n",
    "                current_process = 'y+1'\n",
    "                print ('a5 ', x,y,step,arr[x,y], current_process)\n",
    "        elif (x-1 >= 0) and (arr[x-1,y,2] == 1) and (arr[x-1,y,3] == 0):\n",
    "                arr[x-1,y,3] = step\n",
    "                x = x-1\n",
    "                current_process = 'x-1'\n",
    "                print ('a6 ', x,y,step,arr[x,y], current_process)\n",
    "                \n",
    "    elif current_process == 'x-1':\n",
    "        if (y+1 < M) and (arr[x,y+1,2] == 1) and (arr[x,y+1,3] == 0):\n",
    "                arr[x,y+1,3] = step\n",
    "                y = y+1\n",
    "                current_process = 'y+1'\n",
    "                print ('a7 ', x,y,step,arr[x,y], current_process)\n",
    "        elif (x-1 >= 0) and (arr[x-1,y,2] == 1) and (arr[x-1,y,3] == 0):\n",
    "                arr[x-1,y,3] = step\n",
    "                x = x-1\n",
    "                current_process = 'x-1'\n",
    "                print ('a8 ', x,y,step,arr[x,y], current_process)\n",
    "        elif (y-1 >= 0) and (arr[x,y-1,2] == 1) and (arr[x,y-1,3] == 0):\n",
    "                arr[x,y-1,3] = step\n",
    "                y = y-1\n",
    "                current_process = 'y-1'\n",
    "                print ('a9 ', x,y,step,arr[x,y], current_process)\n",
    "                \n",
    "    elif current_process == 'y-1':\n",
    "        if (x-1 >= 0) and (arr[x-1,y,2] == 1) and (arr[x-1,y,3] == 0):\n",
    "                arr[x-1,y,3] = step\n",
    "                x = x-1\n",
    "                current_process = 'x-1'\n",
    "                print ('aa ', x,y,step,arr[x,y], current_process)\n",
    "        elif (y-1 >= 0) and (arr[x,y-1,2] == 1) and (arr[x,y-1,3] == 0):\n",
    "                arr[x,y-1,3] = step\n",
    "                y = y-1\n",
    "                current_process = 'y-1'\n",
    "                print ('ab ', x,y,step,arr[x,y], current_process)\n",
    "        elif (x+1 < N) and (arr[x+1,y,2] == 1) and (arr[x+1,y,3] == 0):\n",
    "                arr[x+1,y,3] = step\n",
    "                x = x+1\n",
    "                current_process = 'x+1'\n",
    "                print ('ac ', x,y,step,arr[x,y], current_process)\n",
    "                \n",
    "    else:\n",
    "        break;\n",
    "            \n"
   ]
  },
  {
   "cell_type": "code",
   "execution_count": 4,
   "metadata": {},
   "outputs": [
    {
     "data": {
      "text/plain": [
       "array([[[0, 0, 0, 0],\n",
       "        [0, 1, 1, 0],\n",
       "        [0, 2, 1, 0],\n",
       "        [0, 3, 0, 0]],\n",
       "\n",
       "       [[1, 0, 0, 0],\n",
       "        [1, 1, 1, 0],\n",
       "        [1, 2, 1, 0],\n",
       "        [1, 3, 0, 0]],\n",
       "\n",
       "       [[2, 0, 1, 1],\n",
       "        [2, 1, 1, 2],\n",
       "        [2, 2, 1, 0],\n",
       "        [2, 3, 1, 0]],\n",
       "\n",
       "       [[3, 0, 0, 0],\n",
       "        [3, 1, 1, 3],\n",
       "        [3, 2, 1, 0],\n",
       "        [3, 3, 0, 0]],\n",
       "\n",
       "       [[4, 0, 0, 0],\n",
       "        [4, 1, 1, 4],\n",
       "        [4, 2, 1, 5],\n",
       "        [4, 3, 0, 0]]])"
      ]
     },
     "execution_count": 4,
     "metadata": {},
     "output_type": "execute_result"
    }
   ],
   "source": [
    "arr"
   ]
  },
  {
   "cell_type": "code",
   "execution_count": null,
   "metadata": {
    "collapsed": true
   },
   "outputs": [],
   "source": []
  },
  {
   "cell_type": "code",
   "execution_count": null,
   "metadata": {
    "collapsed": true
   },
   "outputs": [],
   "source": []
  }
 ],
 "metadata": {
  "kernelspec": {
   "display_name": "Python 3",
   "language": "python",
   "name": "python3"
  },
  "language_info": {
   "codemirror_mode": {
    "name": "ipython",
    "version": 3
   },
   "file_extension": ".py",
   "mimetype": "text/x-python",
   "name": "python",
   "nbconvert_exporter": "python",
   "pygments_lexer": "ipython3",
   "version": "3.6.3"
  }
 },
 "nbformat": 4,
 "nbformat_minor": 2
}
