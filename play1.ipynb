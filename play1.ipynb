{
 "cells": [
  {
   "cell_type": "code",
   "execution_count": 134,
   "metadata": {
    "collapsed": true
   },
   "outputs": [],
   "source": [
    "from IPython.core.interactiveshell import InteractiveShell\n",
    "InteractiveShell.ast_node_interactivity = \"all\"\n",
    "\n",
    "import pandas as pd\n",
    "import numpy as np"
   ]
  },
  {
   "cell_type": "code",
   "execution_count": 143,
   "metadata": {
    "collapsed": true
   },
   "outputs": [],
   "source": [
    "# horizntal cell in this matrix... first 2 columns are position. 0,0; 0,1 etc. \n",
    "# third position is wheter blocked (0) or open (1).\n",
    "# fourth position is index of whether / when visited. 0 means not visited yet. a number would indicate nth step.\n",
    "# total N * M tiles. blocked n * m. N,n - vertical. M,m - horizontal \n",
    "# N(i) -> x.   M(j) -> y \n",
    "N = 6\n",
    "M = 5\n",
    "n = 2\n",
    "m = 2\n",
    "\n",
    "arr = np.empty((N,M,4)).astype(np.int32)\n",
    "\n",
    "for i in range(N):\n",
    "    for j in range(M):\n",
    "        arr[i,j] = [i,j,1,0]\n",
    "\n",
    "arr[0:n,0:m,2] = 0\n",
    "arr[N-n:N,M-m:M,2] = 0\n",
    "arr[0:n,M-m:M,2] = 0\n",
    "arr[N-n:N,0:m,2] = 0"
   ]
  },
  {
   "cell_type": "code",
   "execution_count": 144,
   "metadata": {},
   "outputs": [],
   "source": [
    "step = 1\n",
    "total_steps = 0\n",
    "for i in range(N):\n",
    "    for j in range(M):\n",
    "        if (total_steps == 0):\n",
    "            if (arr[i,j,2] == 1) & (arr[i,j,3] == 0):\n",
    "                arr[i,j,3] = step\n",
    "                x = i\n",
    "                y = j\n",
    "                current_process = 'x+1'\n",
    "        if (arr[i,j,2] == 1):\n",
    "            total_steps = total_steps + 1\n"
   ]
  },
  {
   "cell_type": "code",
   "execution_count": 145,
   "metadata": {},
   "outputs": [],
   "source": [
    "for step in range(2, total_steps+1):\n",
    "    if (x == N-1) & (y+1 < M):\n",
    "        if (y+1 < M) & (arr[x,y+1,2] == 1) & (arr[x,y+1,3] == 0):\n",
    "                arr[x,y+1,3] = step\n",
    "                y = y+1\n",
    "                current_process = 'y+1'\n",
    "        elif (x-1 >= 0) & (arr[x-1,y,2] == 1) & (arr[x-1,y,3] == 0):\n",
    "                arr[x-1,y,3] = step\n",
    "                x = x-1\n",
    "                current_process = 'x-1'\n",
    "\n",
    "    elif (y == M-1):\n",
    "        if (x-1 >= 0) & (arr[x-1,y,2] == 1) & (arr[x-1,y,3] == 0):\n",
    "                arr[x-1,y,3] = step\n",
    "                x = x-1\n",
    "                current_process = 'x-1'\n",
    "        elif (y-1 >= 0) & (arr[x,y-1,2] == 1) & (arr[x,y-1,3] == 0):\n",
    "                arr[x,y-1,3] = step\n",
    "                y = y-1\n",
    "                current_process = 'y-1'\n",
    "                \n",
    "    elif (x == 0):\n",
    "        if (y-1 >= 0) & (arr[x,y-1,2] == 1) & (arr[x,y-1,3] == 0):\n",
    "                arr[x,y-1,3] = step\n",
    "                y = y-1\n",
    "                current_process = 'y-1'\n",
    "        elif (x+1 < N) & (arr[x+1,y,2] == 1) & (arr[x+1,y,3] == 0):\n",
    "                arr[x+1,y,3] = step\n",
    "                x = x+1\n",
    "                current_process = 'x+1'\n",
    "                \n",
    "    elif (y == 0):\n",
    "        if (x+1 < N) & (arr[x+1,y,2] == 1) & (arr[x+1,y,3] == 0):\n",
    "                arr[x+1,y,3] = step\n",
    "                x = x+1\n",
    "                current_process = 'x+1'\n",
    "        elif (y+1 < M) & (arr[x,y+1,2] == 1) & (arr[x,y+1,3] == 0):\n",
    "                arr[x,y+1,3] = step\n",
    "                y = y+1\n",
    "                current_process = 'y+1'        \n",
    "             \n",
    "    elif current_process == 'x+1':\n",
    "        if (y-1 >= 0) & (arr[x,y-1,2] == 1) & (arr[x,y-1,3] == 0):\n",
    "                arr[x,y-1,3] = step\n",
    "                y = y-1\n",
    "                current_process = 'y-1'\n",
    "        elif (x+1 < N) & (arr[x+1,y,2] == 1) & (arr[x+1,y,3] == 0):\n",
    "                arr[x+1,y,3] = step\n",
    "                x = x+1\n",
    "                current_process = 'x+1'\n",
    "        elif (y+1 < M) & (arr[x,y+1,2] == 1) & (arr[x,y+1,3] == 0):\n",
    "                arr[x,y+1,3] = step\n",
    "                y = y+1\n",
    "                current_process = 'y+1'\n",
    "    elif current_process == 'y+1':\n",
    "        if (x+1 < N) & (arr[x+1,y,2] == 1) & (arr[x+1,y,3] == 0):\n",
    "                arr[x+1,y,3] = step\n",
    "                x = x+1\n",
    "                current_process = 'x+1'\n",
    "        elif (y+1 < M) & (arr[x,y+1,2] == 1) & (arr[x,y+1,3] == 0):\n",
    "                arr[x,y+1,3] = step\n",
    "                y = y+1\n",
    "                current_process = 'y+1'\n",
    "        elif (x-1 >= 0) & (arr[x-1,y,2] == 1) & (arr[x-1,y,3] == 0):\n",
    "                arr[x-1,y,3] = step\n",
    "                x = x-1\n",
    "                current_process = 'x-1'\n",
    "    elif current_process == 'x-1':\n",
    "        if (y+1 < M) & (arr[x,y+1,2] == 1) & (arr[x,y+1,3] == 0):\n",
    "                arr[x,y+1,3] = step\n",
    "                y = y+1\n",
    "                current_process = 'y+1'\n",
    "        elif (x-1 >= 0) & (arr[x-1,y,2] == 1) & (arr[x-1,y,3] == 0):\n",
    "                arr[x-1,y,3] = step\n",
    "                x = x-1\n",
    "                current_process = 'x-1'\n",
    "        elif (y-1 >= 0) & (arr[x,y-1,2] == 1) & (arr[x,y-1,3] == 0):\n",
    "                arr[x,y-1,3] = step\n",
    "                y = y-1\n",
    "                current_process = 'y-1'\n",
    "    elif current_process == 'y-1':\n",
    "        if (x-1 >= 0) & (arr[x-1,y,2] == 1) & (arr[x-1,y,3] == 0):\n",
    "                arr[x-1,y,3] = step\n",
    "                x = x-1\n",
    "                current_process = 'x-1'\n",
    "        elif (y-1 >= 0) & (arr[x,y-1,2] == 1) & (arr[x,y-1,3] == 0):\n",
    "                arr[x,y-1,3] = step\n",
    "                y = y-1\n",
    "                current_process = 'y-1'\n",
    "        elif (x+1 < N) & (arr[x+1,y,2] == 1) & (arr[x+1,y,3] == 0):\n",
    "                arr[x+1,y,3] = step\n",
    "                x = x+1\n",
    "                current_process = 'x+1'\n",
    "            \n"
   ]
  },
  {
   "cell_type": "code",
   "execution_count": 146,
   "metadata": {},
   "outputs": [
    {
     "data": {
      "text/plain": [
       "array([[[ 0,  0,  0,  0],\n",
       "        [ 0,  1,  0,  0],\n",
       "        [ 0,  2,  1,  1],\n",
       "        [ 0,  3,  0,  0],\n",
       "        [ 0,  4,  0,  0]],\n",
       "\n",
       "       [[ 1,  0,  0,  0],\n",
       "        [ 1,  1,  0,  0],\n",
       "        [ 1,  2,  1,  2],\n",
       "        [ 1,  3,  0,  0],\n",
       "        [ 1,  4,  0,  0]],\n",
       "\n",
       "       [[ 2,  0,  1,  5],\n",
       "        [ 2,  1,  1,  4],\n",
       "        [ 2,  2,  1,  3],\n",
       "        [ 2,  3,  1,  0],\n",
       "        [ 2,  4,  1,  0]],\n",
       "\n",
       "       [[ 3,  0,  1,  6],\n",
       "        [ 3,  1,  1,  7],\n",
       "        [ 3,  2,  1,  8],\n",
       "        [ 3,  3,  1,  0],\n",
       "        [ 3,  4,  1,  0]],\n",
       "\n",
       "       [[ 4,  0,  0,  0],\n",
       "        [ 4,  1,  0,  0],\n",
       "        [ 4,  2,  1,  9],\n",
       "        [ 4,  3,  0,  0],\n",
       "        [ 4,  4,  0,  0]],\n",
       "\n",
       "       [[ 5,  0,  0,  0],\n",
       "        [ 5,  1,  0,  0],\n",
       "        [ 5,  2,  1, 10],\n",
       "        [ 5,  3,  0,  0],\n",
       "        [ 5,  4,  0,  0]]])"
      ]
     },
     "execution_count": 146,
     "metadata": {},
     "output_type": "execute_result"
    }
   ],
   "source": [
    "arr"
   ]
  },
  {
   "cell_type": "code",
   "execution_count": null,
   "metadata": {
    "collapsed": true
   },
   "outputs": [],
   "source": []
  },
  {
   "cell_type": "code",
   "execution_count": null,
   "metadata": {
    "collapsed": true
   },
   "outputs": [],
   "source": []
  },
  {
   "cell_type": "code",
   "execution_count": null,
   "metadata": {
    "collapsed": true
   },
   "outputs": [],
   "source": []
  },
  {
   "cell_type": "code",
   "execution_count": 133,
   "metadata": {},
   "outputs": [
    {
     "data": {
      "text/plain": [
       "<matplotlib.collections.QuadMesh at 0x219d6dcf748>"
      ]
     },
     "execution_count": 133,
     "metadata": {},
     "output_type": "execute_result"
    },
    {
     "data": {
      "text/plain": [
       "<matplotlib.colorbar.Colorbar at 0x219d72bf048>"
      ]
     },
     "execution_count": 133,
     "metadata": {},
     "output_type": "execute_result"
    },
    {
     "data": {
      "image/png": "[encoded data removed]",
      "text/plain": [
       "<matplotlib.figure.Figure at 0x219d5b96208>"
      ]
     },
     "metadata": {},
     "output_type": "display_data"
    }
   ],
   "source": [
    "import numpy as np\n",
    "import matplotlib.pyplot as plt\n",
    "\n",
    "x, y, z = np.random.random((3, 50))\n",
    "\n",
    "zi, yi, xi = np.histogram2d(y, x, bins=(10,10), weights=z, normed=False)\n",
    "zi = np.ma.masked_equal(zi, 0)\n",
    "\n",
    "fig, ax = plt.subplots()\n",
    "ax.pcolormesh(xi, yi, zi, edgecolors='black')\n",
    "scat = ax.scatter(x, y, c=z, s=200)\n",
    "fig.colorbar(scat)\n",
    "ax.margins(0.05)\n",
    "\n",
    "plt.show()"
   ]
  },
  {
   "cell_type": "code",
   "execution_count": null,
   "metadata": {
    "collapsed": true
   },
   "outputs": [],
   "source": []
  },
  {
   "cell_type": "code",
   "execution_count": null,
   "metadata": {
    "collapsed": true
   },
   "outputs": [],
   "source": []
  },
  {
   "cell_type": "code",
   "execution_count": null,
   "metadata": {
    "collapsed": true
   },
   "outputs": [],
   "source": []
  },
  {
   "cell_type": "code",
   "execution_count": null,
   "metadata": {
    "collapsed": true
   },
   "outputs": [],
   "source": []
  },
  {
   "cell_type": "code",
   "execution_count": null,
   "metadata": {
    "collapsed": true
   },
   "outputs": [],
   "source": []
  },
  {
   "cell_type": "code",
   "execution_count": 18,
   "metadata": {},
   "outputs": [
    {
     "data": {
      "text/plain": [
       "array([[[ 0,  0,  0,  0],\n",
       "        [ 0,  1,  0,  0],\n",
       "        [ 0,  2,  1,  1],\n",
       "        [ 0,  3,  1, 32],\n",
       "        [ 0,  4,  1, 31],\n",
       "        [ 0,  5,  1, 30],\n",
       "        [ 0,  6,  0,  0],\n",
       "        [ 0,  7,  0,  0]],\n",
       "\n",
       "       [[ 1,  0,  0,  0],\n",
       "        [ 1,  1,  0,  0],\n",
       "        [ 1,  2,  1,  2],\n",
       "        [ 1,  3,  1, 33],\n",
       "        [ 1,  4,  1, 56],\n",
       "        [ 1,  5,  1, 29],\n",
       "        [ 1,  6,  0,  0],\n",
       "        [ 1,  7,  0,  0]],\n",
       "\n",
       "       [[ 2,  0,  0,  0],\n",
       "        [ 2,  1,  0,  0],\n",
       "        [ 2,  2,  1,  3],\n",
       "        [ 2,  3,  1, 34],\n",
       "        [ 2,  4,  1, 55],\n",
       "        [ 2,  5,  1, 28],\n",
       "        [ 2,  6,  0,  0],\n",
       "        [ 2,  7,  0,  0]],\n",
       "\n",
       "       [[ 3,  0,  1,  6],\n",
       "        [ 3,  1,  1,  5],\n",
       "        [ 3,  2,  1,  4],\n",
       "        [ 3,  3,  1, 35],\n",
       "        [ 3,  4,  1, 54],\n",
       "        [ 3,  5,  1, 27],\n",
       "        [ 3,  6,  1, 26],\n",
       "        [ 3,  7,  1, 25]],\n",
       "\n",
       "       [[ 4,  0,  1,  7],\n",
       "        [ 4,  1,  1, 38],\n",
       "        [ 4,  2,  1, 37],\n",
       "        [ 4,  3,  1, 36],\n",
       "        [ 4,  4,  1, 53],\n",
       "        [ 4,  5,  1, 52],\n",
       "        [ 4,  6,  1, 51],\n",
       "        [ 4,  7,  1, 24]],\n",
       "\n",
       "       [[ 5,  0,  1,  8],\n",
       "        [ 5,  1,  1, 39],\n",
       "        [ 5,  2,  1, 40],\n",
       "        [ 5,  3,  1, 41],\n",
       "        [ 5,  4,  1, 48],\n",
       "        [ 5,  5,  1, 49],\n",
       "        [ 5,  6,  1, 50],\n",
       "        [ 5,  7,  1, 23]],\n",
       "\n",
       "       [[ 6,  0,  1,  9],\n",
       "        [ 6,  1,  1, 10],\n",
       "        [ 6,  2,  1, 11],\n",
       "        [ 6,  3,  1, 42],\n",
       "        [ 6,  4,  1, 47],\n",
       "        [ 6,  5,  1, 20],\n",
       "        [ 6,  6,  1, 21],\n",
       "        [ 6,  7,  1, 22]],\n",
       "\n",
       "       [[ 7,  0,  0,  0],\n",
       "        [ 7,  1,  0,  0],\n",
       "        [ 7,  2,  1, 12],\n",
       "        [ 7,  3,  1, 43],\n",
       "        [ 7,  4,  1, 46],\n",
       "        [ 7,  5,  1, 19],\n",
       "        [ 7,  6,  0,  0],\n",
       "        [ 7,  7,  0,  0]],\n",
       "\n",
       "       [[ 8,  0,  0,  0],\n",
       "        [ 8,  1,  0,  0],\n",
       "        [ 8,  2,  1, 13],\n",
       "        [ 8,  3,  1, 44],\n",
       "        [ 8,  4,  1, 45],\n",
       "        [ 8,  5,  1, 18],\n",
       "        [ 8,  6,  0,  0],\n",
       "        [ 8,  7,  0,  0]],\n",
       "\n",
       "       [[ 9,  0,  0,  0],\n",
       "        [ 9,  1,  0,  0],\n",
       "        [ 9,  2,  1, 14],\n",
       "        [ 9,  3,  1, 15],\n",
       "        [ 9,  4,  1, 16],\n",
       "        [ 9,  5,  1, 17],\n",
       "        [ 9,  6,  0,  0],\n",
       "        [ 9,  7,  0,  0]]])"
      ]
     },
     "execution_count": 18,
     "metadata": {},
     "output_type": "execute_result"
    }
   ],
   "source": [
    "arr"
   ]
  },
  {
   "cell_type": "code",
   "execution_count": 12,
   "metadata": {},
   "outputs": [
    {
     "name": "stdout",
     "output_type": "stream",
     "text": [
      "[0 0 0 0] blocked\n",
      "[0 1 0 0] blocked\n",
      "[0 2 1 1] was open -- now USED --\n",
      "[ 0  3  1 32] was open -- now USED --\n",
      "[ 0  4  1 31] was open -- now USED --\n",
      "[ 0  5  1 30] was open -- now USED --\n",
      "[0 6 0 0] blocked\n",
      "[0 7 0 0] blocked\n",
      "[1 0 0 0] blocked\n",
      "[1 1 0 0] blocked\n",
      "[1 2 1 2] was open -- now USED --\n",
      "[ 1  3  1 33] was open -- now USED --\n",
      "[ 1  4  1 56] was open -- now USED --\n",
      "[ 1  5  1 29] was open -- now USED --\n",
      "[1 6 0 0] blocked\n",
      "[1 7 0 0] blocked\n",
      "[2 0 0 0] blocked\n",
      "[2 1 0 0] blocked\n",
      "[2 2 1 3] was open -- now USED --\n",
      "[ 2  3  1 34] was open -- now USED --\n",
      "[ 2  4  1 55] was open -- now USED --\n",
      "[ 2  5  1 28] was open -- now USED --\n",
      "[2 6 0 0] blocked\n",
      "[2 7 0 0] blocked\n",
      "[3 0 1 6] was open -- now USED --\n",
      "[3 1 1 5] was open -- now USED --\n",
      "[3 2 1 4] was open -- now USED --\n",
      "[ 3  3  1 35] was open -- now USED --\n",
      "[ 3  4  1 54] was open -- now USED --\n",
      "[ 3  5  1 27] was open -- now USED --\n",
      "[ 3  6  1 26] was open -- now USED --\n",
      "[ 3  7  1 25] was open -- now USED --\n",
      "[4 0 1 7] was open -- now USED --\n",
      "[ 4  1  1 38] was open -- now USED --\n",
      "[ 4  2  1 37] was open -- now USED --\n",
      "[ 4  3  1 36] was open -- now USED --\n",
      "[ 4  4  1 53] was open -- now USED --\n",
      "[ 4  5  1 52] was open -- now USED --\n",
      "[ 4  6  1 51] was open -- now USED --\n",
      "[ 4  7  1 24] was open -- now USED --\n",
      "[5 0 1 8] was open -- now USED --\n",
      "[ 5  1  1 39] was open -- now USED --\n",
      "[ 5  2  1 40] was open -- now USED --\n",
      "[ 5  3  1 41] was open -- now USED --\n",
      "[ 5  4  1 48] was open -- now USED --\n",
      "[ 5  5  1 49] was open -- now USED --\n",
      "[ 5  6  1 50] was open -- now USED --\n",
      "[ 5  7  1 23] was open -- now USED --\n",
      "[6 0 1 9] was open -- now USED --\n",
      "[ 6  1  1 10] was open -- now USED --\n",
      "[ 6  2  1 11] was open -- now USED --\n",
      "[ 6  3  1 42] was open -- now USED --\n",
      "[ 6  4  1 47] was open -- now USED --\n",
      "[ 6  5  1 20] was open -- now USED --\n",
      "[ 6  6  1 21] was open -- now USED --\n",
      "[ 6  7  1 22] was open -- now USED --\n",
      "[7 0 0 0] blocked\n",
      "[7 1 0 0] blocked\n",
      "[ 7  2  1 12] was open -- now USED --\n",
      "[ 7  3  1 43] was open -- now USED --\n",
      "[ 7  4  1 46] was open -- now USED --\n",
      "[ 7  5  1 19] was open -- now USED --\n",
      "[7 6 0 0] blocked\n",
      "[7 7 0 0] blocked\n",
      "[8 0 0 0] blocked\n",
      "[8 1 0 0] blocked\n",
      "[ 8  2  1 13] was open -- now USED --\n",
      "[ 8  3  1 44] was open -- now USED --\n",
      "[ 8  4  1 45] was open -- now USED --\n",
      "[ 8  5  1 18] was open -- now USED --\n",
      "[8 6 0 0] blocked\n",
      "[8 7 0 0] blocked\n",
      "[9 0 0 0] blocked\n",
      "[9 1 0 0] blocked\n",
      "[ 9  2  1 14] was open -- now USED --\n",
      "[ 9  3  1 15] was open -- now USED --\n",
      "[ 9  4  1 16] was open -- now USED --\n",
      "[ 9  5  1 17] was open -- now USED --\n",
      "[9 6 0 0] blocked\n",
      "[9 7 0 0] blocked\n"
     ]
    }
   ],
   "source": [
    "for i in range(N):\n",
    "    for j in range(M):\n",
    "        if (arr[i,j,2] == 1):\n",
    "            if (arr[i,j,3] != 0):\n",
    "                print (arr[i,j], 'was open -- now USED --')\n",
    "            else:\n",
    "                print (arr[i,j], 'open')\n",
    "        else:\n",
    "            print (arr[i,j], 'blocked')\n"
   ]
  },
  {
   "cell_type": "code",
   "execution_count": null,
   "metadata": {
    "collapsed": true
   },
   "outputs": [],
   "source": []
  },
  {
   "cell_type": "code",
   "execution_count": null,
   "metadata": {
    "collapsed": true
   },
   "outputs": [],
   "source": []
  },
  {
   "cell_type": "code",
   "execution_count": null,
   "metadata": {
    "collapsed": true
   },
   "outputs": [],
   "source": []
  },
  {
   "cell_type": "code",
   "execution_count": null,
   "metadata": {
    "collapsed": true
   },
   "outputs": [],
   "source": []
  },
  {
   "cell_type": "code",
   "execution_count": null,
   "metadata": {
    "collapsed": true
   },
   "outputs": [],
   "source": []
  },
  {
   "cell_type": "code",
   "execution_count": null,
   "metadata": {
    "collapsed": true
   },
   "outputs": [],
   "source": []
  },
  {
   "cell_type": "code",
   "execution_count": null,
   "metadata": {
    "collapsed": true
   },
   "outputs": [],
   "source": []
  },
  {
   "cell_type": "code",
   "execution_count": null,
   "metadata": {
    "collapsed": true
   },
   "outputs": [],
   "source": []
  },
  {
   "cell_type": "code",
   "execution_count": null,
   "metadata": {
    "collapsed": true
   },
   "outputs": [],
   "source": []
  }
 ],
 "metadata": {
  "kernelspec": {
   "display_name": "Python 3",
   "language": "python",
   "name": "python3"
  },
  "language_info": {
   "codemirror_mode": {
    "name": "ipython",
    "version": 3
   },
   "file_extension": ".py",
   "mimetype": "text/x-python",
   "name": "python",
   "nbconvert_exporter": "python",
   "pygments_lexer": "ipython3",
   "version": "3.6.3"
  }
 },
 "nbformat": 4,
 "nbformat_minor": 2
}
