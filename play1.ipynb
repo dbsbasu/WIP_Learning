{
 "cells": [
  {
   "cell_type": "code",
   "execution_count": 1284,
   "metadata": {
    "collapsed": true
   },
   "outputs": [],
   "source": [
    "from IPython.core.interactiveshell import InteractiveShell\n",
    "InteractiveShell.ast_node_interactivity = \"all\"\n",
    "\n",
    "import pandas as pd\n",
    "import numpy as np"
   ]
  },
  {
   "cell_type": "code",
   "execution_count": 1285,
   "metadata": {},
   "outputs": [],
   "source": [
    "# horizntal cell in this matrix... first 2 columns are position. 0,0; 0,1 etc. \n",
    "# third position is wheter blocked (0) or open (1).\n",
    "# fourth position is index of whether / when visited. 0 means not visited yet. a number would indicate nth step.\n",
    "# total N * M tiles. blocked n * m. N,n - vertical. M,m - horizontal \n",
    "# N(i) -> x.   M(j) -> y \n",
    "N = 4\n",
    "M = 3\n",
    "n = 0\n",
    "m = 0\n",
    "\n",
    "arr = np.empty((N,M,4)).astype(np.int32)\n",
    "\n",
    "for i in range(N):\n",
    "    for j in range(M):\n",
    "        arr[i,j] = [i,j,1,0]\n",
    "\n",
    "arr[0:n,0:m,2] = 0\n",
    "arr[N-n:N,M-m:M,2] = 0\n",
    "arr[0:n,M-m:M,2] = 0\n",
    "arr[N-n:N,0:m,2] = 0"
   ]
  },
  {
   "cell_type": "code",
   "execution_count": 1286,
   "metadata": {},
   "outputs": [
    {
     "name": "stdout",
     "output_type": "stream",
     "text": [
      "0 0 12 [0 0 1 1]\n"
     ]
    }
   ],
   "source": [
    "step = 1\n",
    "total_steps = 0\n",
    "for i in range(N):\n",
    "    for j in range(M):\n",
    "        if (total_steps == 0):\n",
    "            if (arr[i,j,2] == 1) & (arr[i,j,3] == 0):\n",
    "                arr[i,j,3] = step\n",
    "                x = i\n",
    "                y = j\n",
    "                current_process = 'x+1'\n",
    "        if (arr[i,j,2] == 1):\n",
    "            total_steps = total_steps + 1\n",
    "print(x,y, total_steps, arr[x,y])  \n"
   ]
  },
  {
   "cell_type": "code",
   "execution_count": 1287,
   "metadata": {},
   "outputs": [
    {
     "name": "stdout",
     "output_type": "stream",
     "text": [
      "x+1 1 0 2 [1 0 1 2]\n",
      "x+1 2 0 3 [2 0 1 3]\n",
      "x+1 3 0 4 [3 0 1 4]\n",
      "y+1 3 1 5 [3 1 1 5]\n",
      "y+1 3 2 6 [3 2 1 6]\n",
      "x-1 2 2 7 [2 2 1 7]\n",
      "x-1 1 2 8 [1 2 1 8]\n",
      "x-1 0 2 9 [0 2 1 9]\n",
      "y-1 0 1 10 [ 0  1  1 10]\n",
      "x+1 1 1 11 [ 1  1  1 11]\n",
      "x+1 1 1 12 [ 1  1  1 11]\n"
     ]
    }
   ],
   "source": [
    "for step in range(2, total_steps+1):\n",
    "    if current_process == 'x+1':\n",
    "        if (y-1 >= 0):\n",
    "            if (arr[x,y-1,2] == 1) & (arr[x,y-1,3] == 0):\n",
    "                arr[x,y-1,3] = step\n",
    "                y = y-1\n",
    "                current_process = 'y-1'\n",
    "        elif (x+1 < N):\n",
    "            if (arr[x+1,y,2] == 1) & (arr[x+1,y,3] == 0):\n",
    "                arr[x+1,y,3] = step\n",
    "                x = x+1\n",
    "                current_process = 'x+1'\n",
    "        elif (y+1 < M):\n",
    "            if (arr[x,y+1,2] == 1) & (arr[x,y+1,3] == 0):\n",
    "                arr[x,y+1,3] = step\n",
    "                y = y+1\n",
    "                current_process = 'y+1'\n",
    "    elif current_process == 'y+1':\n",
    "        if (x+1 < N):\n",
    "            if (arr[x+1,y,2] == 1) & (arr[x+1,y,3] == 0):\n",
    "                arr[x+1,y,3] = step\n",
    "                x = x+1\n",
    "                current_process = 'x+1'\n",
    "        elif (y+1 < M):\n",
    "            if (arr[x,y+1,2] == 1) & (arr[x,y+1,3] == 0):\n",
    "                arr[x,y+1,3] = step\n",
    "                y = y+1\n",
    "                current_process = 'y+1'\n",
    "        elif (x-1 >= 0):\n",
    "            if (arr[x-1,y,2] == 1) & (arr[x-1,y,3] == 0):\n",
    "                arr[x-1,y,3] = step\n",
    "                x = x-1\n",
    "                current_process = 'x-1'\n",
    "    elif current_process == 'x-1':\n",
    "        if (y+1 < M):\n",
    "            if (arr[x,y+1,2] == 1) & (arr[x,y+1,3] == 0):\n",
    "                arr[x,y+1,3] = step\n",
    "                y = y+1\n",
    "                current_process = 'y+1'\n",
    "        elif (x-1 >= 0):\n",
    "            if (arr[x-1,y,2] == 1) & (arr[x-1,y,3] == 0):\n",
    "                arr[x-1,y,3] = step\n",
    "                x = x-1\n",
    "                current_process = 'x-1'\n",
    "        elif (y-1 >= 0):\n",
    "            if (arr[x,y-1,2] == 1) & (arr[x,y-1,3] == 0):\n",
    "                arr[x,y-1,3] = step\n",
    "                y = y-1\n",
    "                current_process = 'y-1'\n",
    "    elif current_process == 'y-1':\n",
    "        if (x-1 >= 0):\n",
    "            if (arr[x-1,y,2] == 1) & (arr[x-1,y,3] == 0):\n",
    "                arr[x-1,y,3] = step\n",
    "                x = x-1\n",
    "                current_process = 'x-1'\n",
    "        elif (y-1 >= 0) & (arr[x,y-1,2] == 1) & (arr[x,y-1,3] == 0):\n",
    "                arr[x,y-1,3] = step\n",
    "                y = y-1\n",
    "                current_process = 'y-1'\n",
    "        elif (x+1 < N) & (arr[x+1,y,2] == 1) & (arr[x+1,y,3] == 0):\n",
    "                arr[x+1,y,3] = step\n",
    "                x = x+1\n",
    "                current_process = 'x+1'\n",
    "            \n",
    "    print(current_process,x,y,step,arr[x,y])\n"
   ]
  },
  {
   "cell_type": "code",
   "execution_count": 1270,
   "metadata": {},
   "outputs": [
    {
     "data": {
      "text/plain": [
       "array([[[ 0,  0,  1,  1],\n",
       "        [ 0,  1,  1, 10],\n",
       "        [ 0,  2,  1,  9]],\n",
       "\n",
       "       [[ 1,  0,  1,  2],\n",
       "        [ 1,  1,  1, 11],\n",
       "        [ 1,  2,  1,  8]],\n",
       "\n",
       "       [[ 2,  0,  1,  3],\n",
       "        [ 2,  1,  1,  0],\n",
       "        [ 2,  2,  1,  7]],\n",
       "\n",
       "       [[ 3,  0,  1,  4],\n",
       "        [ 3,  1,  1,  5],\n",
       "        [ 3,  2,  1,  6]]])"
      ]
     },
     "execution_count": 1270,
     "metadata": {},
     "output_type": "execute_result"
    }
   ],
   "source": [
    "arr"
   ]
  },
  {
   "cell_type": "code",
   "execution_count": 1235,
   "metadata": {},
   "outputs": [
    {
     "name": "stdout",
     "output_type": "stream",
     "text": [
      "[0 0 1 1] was open -- now USED --\n",
      "[ 0  1  1 18] was open -- now USED --\n",
      "[ 0  2  1 17] was open -- now USED --\n",
      "[ 0  3  1 16] was open -- now USED --\n",
      "[ 0  4  1 15] was open -- now USED --\n",
      "[1 0 1 2] was open -- now USED --\n",
      "[1 1 1 0] open\n",
      "[1 2 1 0] open\n",
      "[1 3 1 0] open\n",
      "[ 1  4  1 14] was open -- now USED --\n",
      "[2 0 1 3] was open -- now USED --\n",
      "[2 1 1 0] open\n",
      "[2 2 1 0] open\n",
      "[2 3 1 0] open\n",
      "[ 2  4  1 13] was open -- now USED --\n",
      "[3 0 1 4] was open -- now USED --\n",
      "[3 1 1 0] open\n",
      "[3 2 1 0] open\n",
      "[3 3 1 0] open\n",
      "[ 3  4  1 12] was open -- now USED --\n",
      "[4 0 1 5] was open -- now USED --\n",
      "[4 1 1 0] open\n",
      "[4 2 1 0] open\n",
      "[4 3 1 0] open\n",
      "[ 4  4  1 11] was open -- now USED --\n",
      "[5 0 1 6] was open -- now USED --\n",
      "[5 1 1 7] was open -- now USED --\n",
      "[5 2 1 8] was open -- now USED --\n",
      "[5 3 1 9] was open -- now USED --\n",
      "[ 5  4  1 10] was open -- now USED --\n"
     ]
    }
   ],
   "source": [
    "for i in range(N):\n",
    "    for j in range(M):\n",
    "        if (arr[i,j,2] == 1):\n",
    "            if (arr[i,j,3] != 0):\n",
    "                print (arr[i,j], 'was open -- now USED --')\n",
    "            else:\n",
    "                print (arr[i,j], 'open')\n",
    "        else:\n",
    "            print (arr[i,j], 'blocked')\n"
   ]
  },
  {
   "cell_type": "code",
   "execution_count": null,
   "metadata": {},
   "outputs": [],
   "source": []
  },
  {
   "cell_type": "code",
   "execution_count": null,
   "metadata": {},
   "outputs": [],
   "source": []
  },
  {
   "cell_type": "code",
   "execution_count": null,
   "metadata": {
    "collapsed": true
   },
   "outputs": [],
   "source": []
  },
  {
   "cell_type": "code",
   "execution_count": null,
   "metadata": {
    "collapsed": true
   },
   "outputs": [],
   "source": []
  },
  {
   "cell_type": "code",
   "execution_count": null,
   "metadata": {
    "collapsed": true
   },
   "outputs": [],
   "source": []
  },
  {
   "cell_type": "code",
   "execution_count": null,
   "metadata": {},
   "outputs": [],
   "source": []
  },
  {
   "cell_type": "code",
   "execution_count": null,
   "metadata": {
    "collapsed": true
   },
   "outputs": [],
   "source": []
  },
  {
   "cell_type": "code",
   "execution_count": null,
   "metadata": {
    "collapsed": true
   },
   "outputs": [],
   "source": []
  },
  {
   "cell_type": "code",
   "execution_count": null,
   "metadata": {
    "collapsed": true
   },
   "outputs": [],
   "source": []
  }
 ],
 "metadata": {
  "kernelspec": {
   "display_name": "Python 3",
   "language": "python",
   "name": "python3"
  },
  "language_info": {
   "codemirror_mode": {
    "name": "ipython",
    "version": 3
   },
   "file_extension": ".py",
   "mimetype": "text/x-python",
   "name": "python",
   "nbconvert_exporter": "python",
   "pygments_lexer": "ipython3",
   "version": "3.6.3"
  }
 },
 "nbformat": 4,
 "nbformat_minor": 2
}
